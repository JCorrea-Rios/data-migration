{
 "cells": [
  {
   "cell_type": "code",
   "execution_count": 1,
   "metadata": {},
   "outputs": [],
   "source": [
    "path = \"Data/All_Records_Clean_Names.csv\""
   ]
  },
  {
   "cell_type": "code",
   "execution_count": 2,
   "metadata": {},
   "outputs": [
    {
     "ename": "ModuleNotFoundError",
     "evalue": "No module named 'ftfy'",
     "output_type": "error",
     "traceback": [
      "\u001b[31m---------------------------------------------------------------------------\u001b[39m",
      "\u001b[31mModuleNotFoundError\u001b[39m                       Traceback (most recent call last)",
      "\u001b[36mCell\u001b[39m\u001b[36m \u001b[39m\u001b[32mIn[2]\u001b[39m\u001b[32m, line 1\u001b[39m\n\u001b[32m----> \u001b[39m\u001b[32m1\u001b[39m \u001b[38;5;28;01mfrom\u001b[39;00m\u001b[38;5;250m \u001b[39m\u001b[34;01mTFIDF_Sim_Utils\u001b[39;00m\u001b[38;5;250m \u001b[39m\u001b[38;5;28;01mimport\u001b[39;00m (ngrams,\n\u001b[32m      2\u001b[39m                              awesome_cossim_top,\n\u001b[32m      3\u001b[39m                              get_matches_df)\n\u001b[32m      4\u001b[39m \u001b[38;5;28;01mimport\u001b[39;00m\u001b[38;5;250m \u001b[39m\u001b[34;01mpandas\u001b[39;00m\u001b[38;5;250m \u001b[39m\u001b[38;5;28;01mas\u001b[39;00m\u001b[38;5;250m \u001b[39m\u001b[34;01mpd\u001b[39;00m\n\u001b[32m      5\u001b[39m \u001b[38;5;28;01mfrom\u001b[39;00m\u001b[38;5;250m \u001b[39m\u001b[34;01msklearn\u001b[39;00m\u001b[34;01m.\u001b[39;00m\u001b[34;01mfeature_extraction\u001b[39;00m\u001b[34;01m.\u001b[39;00m\u001b[34;01mtext\u001b[39;00m\u001b[38;5;250m \u001b[39m\u001b[38;5;28;01mimport\u001b[39;00m TfidfVectorizer\n",
      "\u001b[36mFile \u001b[39m\u001b[32m~/Documents/data-migration/All_Records_Fuzzy_Matching/TFIDF_Sim_For_All_Records/TFIDF_Sim_Utils.py:1\u001b[39m\n\u001b[32m----> \u001b[39m\u001b[32m1\u001b[39m \u001b[38;5;28;01mfrom\u001b[39;00m\u001b[38;5;250m \u001b[39m\u001b[34;01mftfy\u001b[39;00m\u001b[38;5;250m \u001b[39m\u001b[38;5;28;01mimport\u001b[39;00m fix_text\n\u001b[32m      2\u001b[39m \u001b[38;5;28;01mimport\u001b[39;00m\u001b[38;5;250m \u001b[39m\u001b[34;01mre\u001b[39;00m\n\u001b[32m      4\u001b[39m \u001b[38;5;28;01mdef\u001b[39;00m\u001b[38;5;250m \u001b[39m\u001b[34mngrams\u001b[39m (string, n=\u001b[32m3\u001b[39m):\n",
      "\u001b[31mModuleNotFoundError\u001b[39m: No module named 'ftfy'"
     ]
    }
   ],
   "source": [
    "from TFIDF_Sim_Utils import (ngrams,\n",
    "                             awesome_cossim_top,\n",
    "                             get_matches_df)\n",
    "import pandas as pd\n",
    "from sklearn.feature_extraction.text import TfidfVectorizer\n",
    "import time"
   ]
  },
  {
   "cell_type": "code",
   "execution_count": 6,
   "metadata": {},
   "outputs": [],
   "source": [
    "df = pd.read_csv(path)"
   ]
  },
  {
   "cell_type": "code",
   "execution_count": 8,
   "metadata": {},
   "outputs": [
    {
     "data": {
      "text/html": [
       "<div>\n",
       "<style scoped>\n",
       "    .dataframe tbody tr th:only-of-type {\n",
       "        vertical-align: middle;\n",
       "    }\n",
       "\n",
       "    .dataframe tbody tr th {\n",
       "        vertical-align: top;\n",
       "    }\n",
       "\n",
       "    .dataframe thead th {\n",
       "        text-align: right;\n",
       "    }\n",
       "</style>\n",
       "<table border=\"1\" class=\"dataframe\">\n",
       "  <thead>\n",
       "    <tr style=\"text-align: right;\">\n",
       "      <th></th>\n",
       "      <th>Internal ID</th>\n",
       "      <th>Name</th>\n",
       "      <th>Created Date</th>\n",
       "      <th>Sectors</th>\n",
       "      <th>Clean_Name</th>\n",
       "    </tr>\n",
       "  </thead>\n",
       "  <tbody>\n",
       "    <tr>\n",
       "      <th>629989</th>\n",
       "      <td>432720</td>\n",
       "      <td>ZimVie Inc.</td>\n",
       "      <td>2022-10-10 01:55:02.368</td>\n",
       "      <td>Furniture; other manufactured goods n.e.c.|Med...</td>\n",
       "      <td>Zimvie</td>\n",
       "    </tr>\n",
       "    <tr>\n",
       "      <th>124109</th>\n",
       "      <td>507818</td>\n",
       "      <td>CHUBB FIRE &amp; SECURITY PTY LTD</td>\n",
       "      <td>2022-11-28 13:55:42.150</td>\n",
       "      <td>Public administration and defence services; co...</td>\n",
       "      <td>Chubb Fire &amp; Security</td>\n",
       "    </tr>\n",
       "    <tr>\n",
       "      <th>479114</th>\n",
       "      <td>296652</td>\n",
       "      <td>SCENTRE GROUP BRANDSPACE (WEST LAKES)</td>\n",
       "      <td>2021-06-07 00:00:00.000</td>\n",
       "      <td>Real estate services</td>\n",
       "      <td>Scentre Group Brandspace</td>\n",
       "    </tr>\n",
       "    <tr>\n",
       "      <th>10416</th>\n",
       "      <td>73660</td>\n",
       "      <td>ACCENTURE PUBLIC LIMITED COMPANY</td>\n",
       "      <td>2022-05-03 00:00:00.000</td>\n",
       "      <td>Computer and related services|Other business s...</td>\n",
       "      <td>Accenture Public Company</td>\n",
       "    </tr>\n",
       "  </tbody>\n",
       "</table>\n",
       "</div>"
      ],
      "text/plain": [
       "        Internal ID                                   Name  \\\n",
       "629989       432720                            ZimVie Inc.   \n",
       "124109       507818          CHUBB FIRE & SECURITY PTY LTD   \n",
       "479114       296652  SCENTRE GROUP BRANDSPACE (WEST LAKES)   \n",
       "10416         73660       ACCENTURE PUBLIC LIMITED COMPANY   \n",
       "\n",
       "                   Created Date  \\\n",
       "629989  2022-10-10 01:55:02.368   \n",
       "124109  2022-11-28 13:55:42.150   \n",
       "479114  2021-06-07 00:00:00.000   \n",
       "10416   2022-05-03 00:00:00.000   \n",
       "\n",
       "                                                  Sectors  \\\n",
       "629989  Furniture; other manufactured goods n.e.c.|Med...   \n",
       "124109  Public administration and defence services; co...   \n",
       "479114                               Real estate services   \n",
       "10416   Computer and related services|Other business s...   \n",
       "\n",
       "                      Clean_Name  \n",
       "629989                    Zimvie  \n",
       "124109     Chubb Fire & Security  \n",
       "479114  Scentre Group Brandspace  \n",
       "10416   Accenture Public Company  "
      ]
     },
     "execution_count": 8,
     "metadata": {},
     "output_type": "execute_result"
    }
   ],
   "source": [
    "df.sample(n=4)"
   ]
  },
  {
   "attachments": {},
   "cell_type": "markdown",
   "metadata": {},
   "source": [
    "# Create TFIDF Vectors"
   ]
  },
  {
   "cell_type": "code",
   "execution_count": 10,
   "metadata": {},
   "outputs": [],
   "source": [
    "company_names = df[\"Clean_Name\"].astype(str)\n",
    "vectorizer = TfidfVectorizer(min_df=1, analyzer=ngrams)\n",
    "tf_idf_matrix = vectorizer.fit_transform(company_names)"
   ]
  },
  {
   "attachments": {},
   "cell_type": "markdown",
   "metadata": {},
   "source": [
    "# Create Matches Matrix"
   ]
  },
  {
   "cell_type": "code",
   "execution_count": 11,
   "metadata": {},
   "outputs": [
    {
     "name": "stdout",
     "output_type": "stream",
     "text": [
      "TIME TAKEN: 477.8784010410309\n"
     ]
    }
   ],
   "source": [
    "\n",
    "t1 = time.time()\n",
    "matches = awesome_cossim_top(tf_idf_matrix, tf_idf_matrix.transpose(), 100, 0.9)\n",
    "t = time.time()-t1\n",
    "print(\"TIME TAKEN:\", t)"
   ]
  },
  {
   "attachments": {},
   "cell_type": "markdown",
   "metadata": {},
   "source": [
    "# Create Data Structure"
   ]
  },
  {
   "cell_type": "code",
   "execution_count": 13,
   "metadata": {},
   "outputs": [
    {
     "name": "stdout",
     "output_type": "stream",
     "text": [
      "TIME TAKEN: 126.73844885826111\n"
     ]
    }
   ],
   "source": [
    "t1 = time.time()\n",
    "\n",
    "ID_matches_dict = {}\n",
    "for ID in df[\"Internal ID\"]:\n",
    "    ID_matches_dict[ID] = []\n",
    "\n",
    "matches_dict = {}\n",
    "for ID in df[\"Internal ID\"]:\n",
    "    matches_dict[ID] = []\n",
    "\n",
    "non_zeros = matches.nonzero()\n",
    "sparserows = non_zeros[0]\n",
    "sparsecols = non_zeros[1]\n",
    "nr_matches = sparsecols.size\n",
    "\n",
    "for index in range(0, nr_matches):\n",
    "    left_name = df[\"Internal ID\"][sparserows[index]]\n",
    "    right_name = df[\"Internal ID\"][sparsecols[index]]\n",
    "    similarity = matches.data[index]\n",
    "\n",
    "    ID_matches_dict[left_name].append(right_name)\n",
    "    ID_matches_dict[right_name].append(left_name)\n",
    "\n",
    "t = time.time()-t1\n",
    "print(\"TIME TAKEN:\", t)"
   ]
  },
  {
   "cell_type": "code",
   "execution_count": 19,
   "metadata": {},
   "outputs": [],
   "source": [
    "mdf = pd.DataFrame(list(ID_matches_dict.items()), columns=['Internal ID', 'Matches'])"
   ]
  },
  {
   "cell_type": "code",
   "execution_count": 20,
   "metadata": {},
   "outputs": [
    {
     "data": {
      "text/plain": [
       "(631829, 5)"
      ]
     },
     "execution_count": 20,
     "metadata": {},
     "output_type": "execute_result"
    }
   ],
   "source": [
    "df.shape"
   ]
  },
  {
   "cell_type": "code",
   "execution_count": 21,
   "metadata": {},
   "outputs": [
    {
     "data": {
      "text/plain": [
       "(631829, 2)"
      ]
     },
     "execution_count": 21,
     "metadata": {},
     "output_type": "execute_result"
    }
   ],
   "source": [
    "mdf.shape"
   ]
  },
  {
   "cell_type": "code",
   "execution_count": 23,
   "metadata": {},
   "outputs": [],
   "source": [
    "result = df.merge(mdf, on=\"Internal ID\")"
   ]
  },
  {
   "cell_type": "code",
   "execution_count": 28,
   "metadata": {},
   "outputs": [],
   "source": [
    "## need to remove the Internal ID's occurring in their own row.\n",
    "result['Matches'] = result.apply(lambda row: [id for id in row['Matches'] if id != row['Internal ID']], axis=1)"
   ]
  },
  {
   "cell_type": "code",
   "execution_count": 59,
   "metadata": {},
   "outputs": [],
   "source": [
    "def remove_duplicates(lst):\n",
    "    return list(dict.fromkeys(lst))"
   ]
  },
  {
   "cell_type": "code",
   "execution_count": null,
   "metadata": {},
   "outputs": [],
   "source": [
    "len(result[\"Matches\"][1])"
   ]
  },
  {
   "cell_type": "code",
   "execution_count": 71,
   "metadata": {},
   "outputs": [],
   "source": [
    "# need to remove duplicates occurring in the Matches\n",
    "result[\"Matches\"] = result[\"Matches\"].apply(remove_duplicates)"
   ]
  },
  {
   "cell_type": "code",
   "execution_count": 72,
   "metadata": {},
   "outputs": [
    {
     "data": {
      "text/plain": [
       "69"
      ]
     },
     "execution_count": 72,
     "metadata": {},
     "output_type": "execute_result"
    }
   ],
   "source": [
    "len(result[\"Matches\"][1])"
   ]
  },
  {
   "cell_type": "code",
   "execution_count": 73,
   "metadata": {},
   "outputs": [],
   "source": [
    "# result.to_excel(\"matching_results.xlsx\", index=False)"
   ]
  },
  {
   "cell_type": "code",
   "execution_count": null,
   "metadata": {},
   "outputs": [],
   "source": []
  },
  {
   "attachments": {},
   "cell_type": "markdown",
   "metadata": {},
   "source": [
    "# Inspect matches"
   ]
  },
  {
   "cell_type": "code",
   "execution_count": 180,
   "metadata": {},
   "outputs": [],
   "source": [
    "def get_rows_by_ids(df, id_list):\n",
    "    return df[df['Internal ID'].isin(id_list)]\n",
    "\n",
    "def inspect_matches(df, internal_id):\n",
    "    id_list = list(df[df[\"Internal ID\"] == internal_id][\"Matches\"])[0]\n",
    "    matching_names = get_rows_by_ids(df, id_list)[\"Name\"]\n",
    "    print(df[df[\"Internal ID\"] == internal_id][\"Name\"])\n",
    "    print()\n",
    "    print(\"MATCHES:\")\n",
    "    print(matching_names)\n",
    "    return matching_names"
   ]
  },
  {
   "attachments": {},
   "cell_type": "markdown",
   "metadata": {},
   "source": [
    "#### Randomly Sample a Row and Observe its Matches"
   ]
  },
  {
   "cell_type": "code",
   "execution_count": 249,
   "metadata": {},
   "outputs": [
    {
     "name": "stdout",
     "output_type": "stream",
     "text": [
      "455795    Reflektive, Inc.\n",
      "Name: Name, dtype: object\n",
      "\n",
      "MATCHES:\n",
      "455785    Reflektive, Inc.\n",
      "455786    Reflektive, Inc.\n",
      "455787    Reflektive, Inc.\n",
      "455788    Reflektive, Inc.\n",
      "455789    Reflektive, Inc.\n",
      "455790    Reflektive, Inc.\n",
      "455791    Reflektive, Inc.\n",
      "455792    Reflektive, Inc.\n",
      "455793    Reflektive, Inc.\n",
      "455794    Reflektive, Inc.\n",
      "Name: Name, dtype: object\n"
     ]
    }
   ],
   "source": [
    "ID = result.sample(n=1)[\"Internal ID\"].values[0]\n",
    "m = inspect_matches(result, ID)"
   ]
  },
  {
   "cell_type": "code",
   "execution_count": null,
   "metadata": {},
   "outputs": [],
   "source": []
  },
  {
   "attachments": {},
   "cell_type": "markdown",
   "metadata": {},
   "source": [
    "# Unique Names for testing with FastText word representations"
   ]
  },
  {
   "cell_type": "code",
   "execution_count": 51,
   "metadata": {},
   "outputs": [],
   "source": [
    "my_list = list(set(result[\"Clean_Name\"].astype(str).tolist()))"
   ]
  },
  {
   "cell_type": "code",
   "execution_count": 54,
   "metadata": {},
   "outputs": [
    {
     "data": {
      "text/plain": [
       "119789"
      ]
     },
     "execution_count": 54,
     "metadata": {},
     "output_type": "execute_result"
    }
   ],
   "source": [
    "len(my_list)"
   ]
  },
  {
   "cell_type": "code",
   "execution_count": 52,
   "metadata": {},
   "outputs": [],
   "source": [
    "# Open the file in write mode\n",
    "with open('comp_names.txt', 'w') as f:\n",
    "    # Join the list elements with newline character and write to the file\n",
    "    f.write('\\n'.join(my_list))\n"
   ]
  },
  {
   "cell_type": "code",
   "execution_count": null,
   "metadata": {},
   "outputs": [],
   "source": []
  },
  {
   "attachments": {},
   "cell_type": "markdown",
   "metadata": {},
   "source": [
    "# Create Adjacency List for SBM"
   ]
  },
  {
   "cell_type": "code",
   "execution_count": 119,
   "metadata": {},
   "outputs": [],
   "source": [
    "\n",
    "# Create an adjacency list as a list of tuples\n",
    "adjacency_list = [(single, item) for single, row_list in zip(result['Internal ID'], result['Matches']) for item in row_list]\n",
    "#print(adjacency_list)\n"
   ]
  },
  {
   "cell_type": "code",
   "execution_count": 120,
   "metadata": {},
   "outputs": [
    {
     "name": "stdout",
     "output_type": "stream",
     "text": [
      "17627472\n"
     ]
    }
   ],
   "source": [
    "print(len(adjacency_list))"
   ]
  },
  {
   "cell_type": "code",
   "execution_count": 121,
   "metadata": {},
   "outputs": [],
   "source": [
    "# Convert tuples to frozensets to handle order-insensitive duplicates\n",
    "frozen_adjacency_list = [frozenset(pair) for pair in adjacency_list]\n",
    "\n",
    "# Use a set to remove duplicates\n",
    "unique_frozen_adjacency_list = set(frozen_adjacency_list)\n",
    "\n",
    "# Convert frozensets back to tuples to get the final unique adjacency list\n",
    "unique_adjacency_list = [tuple(pair) for pair in unique_frozen_adjacency_list]\n"
   ]
  },
  {
   "cell_type": "code",
   "execution_count": 122,
   "metadata": {},
   "outputs": [
    {
     "name": "stdout",
     "output_type": "stream",
     "text": [
      "8813736\n"
     ]
    }
   ],
   "source": [
    "print(len(unique_adjacency_list))"
   ]
  },
  {
   "cell_type": "code",
   "execution_count": 123,
   "metadata": {},
   "outputs": [
    {
     "data": {
      "text/plain": [
       "(521019, 491707)"
      ]
     },
     "execution_count": 123,
     "metadata": {},
     "output_type": "execute_result"
    }
   ],
   "source": [
    "unique_adjacency_list[0]"
   ]
  },
  {
   "cell_type": "code",
   "execution_count": 124,
   "metadata": {},
   "outputs": [],
   "source": [
    "import pickle\n",
    "\n",
    "def pickle_adjacency_list(adjacency_list, file_path):\n",
    "    with open(file_path, 'wb') as file:\n",
    "        pickle.dump(adjacency_list, file)\n",
    "\n",
    "file_path = 'adjacency_list.pkl'\n",
    "\n",
    "pickle_adjacency_list(unique_adjacency_list, file_path)\n"
   ]
  },
  {
   "cell_type": "code",
   "execution_count": 129,
   "metadata": {},
   "outputs": [],
   "source": [
    "def find_disconnected_components(adjacency_list):\n",
    "    # Convert the list of tuples to a dictionary representation\n",
    "    graph = {}\n",
    "    for node1, node2 in adjacency_list:\n",
    "        graph.setdefault(node1, []).append(node2)\n",
    "        graph.setdefault(node2, []).append(node1)\n",
    "\n",
    "    def dfs(node):\n",
    "        visited.add(node)\n",
    "        component.append(node)\n",
    "        for neighbor in graph[node]:\n",
    "            if neighbor not in visited:\n",
    "                dfs(neighbor)\n",
    "\n",
    "    visited = set()\n",
    "    disconnected_components = []\n",
    "\n",
    "    for node in graph:\n",
    "        if node not in visited:\n",
    "            component = []\n",
    "            dfs(node)\n",
    "            disconnected_components.append(component)\n",
    "\n",
    "    return disconnected_components\n",
    "\n"
   ]
  },
  {
   "attachments": {},
   "cell_type": "markdown",
   "metadata": {},
   "source": [
    "Trying on smaller example"
   ]
  },
  {
   "cell_type": "code",
   "execution_count": 149,
   "metadata": {},
   "outputs": [],
   "source": [
    "adj_list = unique_adjacency_list"
   ]
  },
  {
   "cell_type": "code",
   "execution_count": 150,
   "metadata": {},
   "outputs": [],
   "source": [
    "DCs = find_disconnected_components(adj_list)"
   ]
  },
  {
   "cell_type": "code",
   "execution_count": 185,
   "metadata": {},
   "outputs": [
    {
     "data": {
      "text/plain": [
       "33"
      ]
     },
     "execution_count": 185,
     "metadata": {},
     "output_type": "execute_result"
    }
   ],
   "source": [
    "len(DCs[0])"
   ]
  },
  {
   "cell_type": "code",
   "execution_count": 151,
   "metadata": {},
   "outputs": [
    {
     "data": {
      "text/plain": [
       "73826"
      ]
     },
     "execution_count": 151,
     "metadata": {},
     "output_type": "execute_result"
    }
   ],
   "source": [
    "len(DCs)"
   ]
  },
  {
   "cell_type": "code",
   "execution_count": 157,
   "metadata": {},
   "outputs": [
    {
     "data": {
      "text/plain": [
       "154"
      ]
     },
     "execution_count": 157,
     "metadata": {},
     "output_type": "execute_result"
    }
   ],
   "source": [
    "len(DCs[840])"
   ]
  },
  {
   "cell_type": "code",
   "execution_count": null,
   "metadata": {},
   "outputs": [],
   "source": []
  },
  {
   "cell_type": "code",
   "execution_count": 158,
   "metadata": {},
   "outputs": [
    {
     "name": "stdout",
     "output_type": "stream",
     "text": [
      "591341\n"
     ]
    }
   ],
   "source": [
    "count = 0\n",
    "for i in range(len(DCs)):\n",
    "    count+=len(DCs[i])\n",
    "\n",
    "print(count)"
   ]
  },
  {
   "cell_type": "code",
   "execution_count": 186,
   "metadata": {},
   "outputs": [
    {
     "data": {
      "text/plain": [
       "(631829, 6)"
      ]
     },
     "execution_count": 186,
     "metadata": {},
     "output_type": "execute_result"
    }
   ],
   "source": [
    "result.shape"
   ]
  },
  {
   "attachments": {},
   "cell_type": "markdown",
   "metadata": {},
   "source": [
    "### We want to check that the missing count is explained by our nodes that have no matches."
   ]
  },
  {
   "cell_type": "code",
   "execution_count": 187,
   "metadata": {},
   "outputs": [
    {
     "data": {
      "text/plain": [
       "40488"
      ]
     },
     "execution_count": 187,
     "metadata": {},
     "output_type": "execute_result"
    }
   ],
   "source": [
    "631829 - 591341"
   ]
  },
  {
   "cell_type": "code",
   "execution_count": 189,
   "metadata": {},
   "outputs": [
    {
     "name": "stdout",
     "output_type": "stream",
     "text": [
      "40488\n"
     ]
    }
   ],
   "source": [
    "num_empty_lists = result['Matches'].apply(lambda x: len(x) == 0).sum()\n",
    "print(num_empty_lists)"
   ]
  },
  {
   "cell_type": "code",
   "execution_count": 197,
   "metadata": {},
   "outputs": [],
   "source": [
    "assert 631829 - 591341 == num_empty_lists"
   ]
  },
  {
   "cell_type": "code",
   "execution_count": null,
   "metadata": {},
   "outputs": [],
   "source": []
  },
  {
   "attachments": {},
   "cell_type": "markdown",
   "metadata": {},
   "source": [
    "# Create Group IDs"
   ]
  },
  {
   "cell_type": "code",
   "execution_count": 30,
   "metadata": {},
   "outputs": [],
   "source": [
    "Group_ID_dictionary = {}"
   ]
  },
  {
   "cell_type": "code",
   "execution_count": 213,
   "metadata": {},
   "outputs": [],
   "source": [
    "Group_ID = int(0)\n",
    "\n",
    "for CC in DCs:\n",
    "\n",
    "    Group_ID_dictionary[Group_ID] = CC\n",
    "    Group_ID += int(1)\n"
   ]
  },
  {
   "cell_type": "code",
   "execution_count": 214,
   "metadata": {},
   "outputs": [],
   "source": [
    "group_dict = {group_id: internal_ids for group_id, internal_ids in Group_ID_dictionary.items()}\n",
    "flattened_dict = {internal_id: group_id for group_id, internal_ids in group_dict.items() for internal_id in internal_ids}\n"
   ]
  },
  {
   "cell_type": "code",
   "execution_count": 215,
   "metadata": {},
   "outputs": [],
   "source": [
    "result['Group_ID'] = result['Internal ID'].map(flattened_dict)\n"
   ]
  },
  {
   "cell_type": "code",
   "execution_count": 216,
   "metadata": {},
   "outputs": [
    {
     "data": {
      "text/html": [
       "<div>\n",
       "<style scoped>\n",
       "    .dataframe tbody tr th:only-of-type {\n",
       "        vertical-align: middle;\n",
       "    }\n",
       "\n",
       "    .dataframe tbody tr th {\n",
       "        vertical-align: top;\n",
       "    }\n",
       "\n",
       "    .dataframe thead th {\n",
       "        text-align: right;\n",
       "    }\n",
       "</style>\n",
       "<table border=\"1\" class=\"dataframe\">\n",
       "  <thead>\n",
       "    <tr style=\"text-align: right;\">\n",
       "      <th></th>\n",
       "      <th>Internal ID</th>\n",
       "      <th>Name</th>\n",
       "      <th>Created Date</th>\n",
       "      <th>Sectors</th>\n",
       "      <th>Clean_Name</th>\n",
       "      <th>Matches</th>\n",
       "      <th>Group_ID</th>\n",
       "    </tr>\n",
       "  </thead>\n",
       "  <tbody>\n",
       "    <tr>\n",
       "      <th>0</th>\n",
       "      <td>333317</td>\n",
       "      <td>NaN</td>\n",
       "      <td>2022-09-13 23:13:53.907</td>\n",
       "      <td>Lead, zinc and tin ores and concentrates</td>\n",
       "      <td>Nan</td>\n",
       "      <td>[34709, 34523, 34453, 36680, 665030, 35188, 14...</td>\n",
       "      <td>136</td>\n",
       "    </tr>\n",
       "    <tr>\n",
       "      <th>1</th>\n",
       "      <td>333316</td>\n",
       "      <td>NaN</td>\n",
       "      <td>2022-09-13 23:13:53.907</td>\n",
       "      <td>Computer and related services</td>\n",
       "      <td>Nan</td>\n",
       "      <td>[333317, 34709, 34523, 34453, 36680, 665030, 3...</td>\n",
       "      <td>136</td>\n",
       "    </tr>\n",
       "    <tr>\n",
       "      <th>2</th>\n",
       "      <td>333315</td>\n",
       "      <td>NaN</td>\n",
       "      <td>2022-09-13 23:13:53.907</td>\n",
       "      <td>Aviation Gasoline</td>\n",
       "      <td>Nan</td>\n",
       "      <td>[333317, 333316, 34709, 34523, 34453, 36680, 6...</td>\n",
       "      <td>136</td>\n",
       "    </tr>\n",
       "    <tr>\n",
       "      <th>3</th>\n",
       "      <td>333314</td>\n",
       "      <td>NaN</td>\n",
       "      <td>2022-09-13 23:13:53.907</td>\n",
       "      <td>Ash for treatment, Re-processing of ash into c...</td>\n",
       "      <td>Nan</td>\n",
       "      <td>[333317, 333316, 333315, 34709, 34523, 34453, ...</td>\n",
       "      <td>136</td>\n",
       "    </tr>\n",
       "    <tr>\n",
       "      <th>4</th>\n",
       "      <td>333313</td>\n",
       "      <td>NaN</td>\n",
       "      <td>2022-09-13 23:13:53.907</td>\n",
       "      <td>Aviation Gasoline</td>\n",
       "      <td>Nan</td>\n",
       "      <td>[333317, 333316, 333315, 333314, 34709, 34523,...</td>\n",
       "      <td>136</td>\n",
       "    </tr>\n",
       "    <tr>\n",
       "      <th>...</th>\n",
       "      <td>...</td>\n",
       "      <td>...</td>\n",
       "      <td>...</td>\n",
       "      <td>...</td>\n",
       "      <td>...</td>\n",
       "      <td>...</td>\n",
       "      <td>...</td>\n",
       "    </tr>\n",
       "    <tr>\n",
       "      <th>631824</th>\n",
       "      <td>169379</td>\n",
       "      <td>ZYNGA INC.</td>\n",
       "      <td>2021-08-11 00:00:00.000</td>\n",
       "      <td>Computer and related services|Recreational, cu...</td>\n",
       "      <td>Zynga</td>\n",
       "      <td>[57358, 89401, 268934, 210854, 145661]</td>\n",
       "      <td>21097</td>\n",
       "    </tr>\n",
       "    <tr>\n",
       "      <th>631825</th>\n",
       "      <td>145661</td>\n",
       "      <td>ZYNGA INC.</td>\n",
       "      <td>2022-05-05 00:00:00.000</td>\n",
       "      <td>Recreational, cultural and sporting services|C...</td>\n",
       "      <td>Zynga</td>\n",
       "      <td>[57358, 89401, 268934, 169379, 210854]</td>\n",
       "      <td>21097</td>\n",
       "    </tr>\n",
       "    <tr>\n",
       "      <th>631826</th>\n",
       "      <td>210854</td>\n",
       "      <td>ZYNGA INC.</td>\n",
       "      <td>2022-05-03 00:00:00.000</td>\n",
       "      <td>Computer and related services|Recreational, cu...</td>\n",
       "      <td>Zynga</td>\n",
       "      <td>[57358, 89401, 268934, 169379, 145661]</td>\n",
       "      <td>21097</td>\n",
       "    </tr>\n",
       "    <tr>\n",
       "      <th>631827</th>\n",
       "      <td>269849</td>\n",
       "      <td>ZZZ Meats Pty Ltd</td>\n",
       "      <td>2022-06-26 00:00:00.000</td>\n",
       "      <td>Meat products nec</td>\n",
       "      <td>Zzz Meats</td>\n",
       "      <td>[]</td>\n",
       "      <td>NaN</td>\n",
       "    </tr>\n",
       "    <tr>\n",
       "      <th>631828</th>\n",
       "      <td>236103</td>\n",
       "      <td>ZZZFL0066 - FLEXTRONICS TECHNOLOGIES India PVT...</td>\n",
       "      <td>2021-08-29 00:00:00.000</td>\n",
       "      <td>Sale, maintenance, repair of motor vehicles, m...</td>\n",
       "      <td>Zzzflflextronics Technologies India Pvt</td>\n",
       "      <td>[]</td>\n",
       "      <td>NaN</td>\n",
       "    </tr>\n",
       "  </tbody>\n",
       "</table>\n",
       "<p>631829 rows × 7 columns</p>\n",
       "</div>"
      ],
      "text/plain": [
       "        Internal ID                                               Name  \\\n",
       "0            333317                                                NaN   \n",
       "1            333316                                                NaN   \n",
       "2            333315                                                NaN   \n",
       "3            333314                                                NaN   \n",
       "4            333313                                                NaN   \n",
       "...             ...                                                ...   \n",
       "631824       169379                                         ZYNGA INC.   \n",
       "631825       145661                                         ZYNGA INC.   \n",
       "631826       210854                                         ZYNGA INC.   \n",
       "631827       269849                                  ZZZ Meats Pty Ltd   \n",
       "631828       236103  ZZZFL0066 - FLEXTRONICS TECHNOLOGIES India PVT...   \n",
       "\n",
       "                   Created Date  \\\n",
       "0       2022-09-13 23:13:53.907   \n",
       "1       2022-09-13 23:13:53.907   \n",
       "2       2022-09-13 23:13:53.907   \n",
       "3       2022-09-13 23:13:53.907   \n",
       "4       2022-09-13 23:13:53.907   \n",
       "...                         ...   \n",
       "631824  2021-08-11 00:00:00.000   \n",
       "631825  2022-05-05 00:00:00.000   \n",
       "631826  2022-05-03 00:00:00.000   \n",
       "631827  2022-06-26 00:00:00.000   \n",
       "631828  2021-08-29 00:00:00.000   \n",
       "\n",
       "                                                  Sectors  \\\n",
       "0                Lead, zinc and tin ores and concentrates   \n",
       "1                           Computer and related services   \n",
       "2                                       Aviation Gasoline   \n",
       "3       Ash for treatment, Re-processing of ash into c...   \n",
       "4                                       Aviation Gasoline   \n",
       "...                                                   ...   \n",
       "631824  Computer and related services|Recreational, cu...   \n",
       "631825  Recreational, cultural and sporting services|C...   \n",
       "631826  Computer and related services|Recreational, cu...   \n",
       "631827                                  Meat products nec   \n",
       "631828  Sale, maintenance, repair of motor vehicles, m...   \n",
       "\n",
       "                                     Clean_Name  \\\n",
       "0                                           Nan   \n",
       "1                                           Nan   \n",
       "2                                           Nan   \n",
       "3                                           Nan   \n",
       "4                                           Nan   \n",
       "...                                         ...   \n",
       "631824                                    Zynga   \n",
       "631825                                    Zynga   \n",
       "631826                                    Zynga   \n",
       "631827                                Zzz Meats   \n",
       "631828  Zzzflflextronics Technologies India Pvt   \n",
       "\n",
       "                                                  Matches Group_ID  \n",
       "0       [34709, 34523, 34453, 36680, 665030, 35188, 14...      136  \n",
       "1       [333317, 34709, 34523, 34453, 36680, 665030, 3...      136  \n",
       "2       [333317, 333316, 34709, 34523, 34453, 36680, 6...      136  \n",
       "3       [333317, 333316, 333315, 34709, 34523, 34453, ...      136  \n",
       "4       [333317, 333316, 333315, 333314, 34709, 34523,...      136  \n",
       "...                                                   ...      ...  \n",
       "631824             [57358, 89401, 268934, 210854, 145661]    21097  \n",
       "631825             [57358, 89401, 268934, 169379, 210854]    21097  \n",
       "631826             [57358, 89401, 268934, 169379, 145661]    21097  \n",
       "631827                                                 []      NaN  \n",
       "631828                                                 []      NaN  \n",
       "\n",
       "[631829 rows x 7 columns]"
      ]
     },
     "execution_count": 216,
     "metadata": {},
     "output_type": "execute_result"
    }
   ],
   "source": [
    "result"
   ]
  },
  {
   "attachments": {},
   "cell_type": "markdown",
   "metadata": {},
   "source": [
    "# Adding Group IDs for the No Matches as well"
   ]
  },
  {
   "cell_type": "code",
   "execution_count": 220,
   "metadata": {},
   "outputs": [
    {
     "data": {
      "text/plain": [
       "73825.0"
      ]
     },
     "execution_count": 220,
     "metadata": {},
     "output_type": "execute_result"
    }
   ],
   "source": [
    "result[\"Group_ID\"].astype(float).max()"
   ]
  },
  {
   "cell_type": "code",
   "execution_count": 221,
   "metadata": {},
   "outputs": [],
   "source": [
    "starting_ID = result[\"Group_ID\"].astype(float).max() + 1"
   ]
  },
  {
   "cell_type": "code",
   "execution_count": 222,
   "metadata": {},
   "outputs": [
    {
     "data": {
      "text/plain": [
       "73826.0"
      ]
     },
     "execution_count": 222,
     "metadata": {},
     "output_type": "execute_result"
    }
   ],
   "source": [
    "starting_ID"
   ]
  },
  {
   "cell_type": "code",
   "execution_count": 224,
   "metadata": {},
   "outputs": [],
   "source": [
    "df_nan = result[result['Group_ID'].isnull()]"
   ]
  },
  {
   "cell_type": "code",
   "execution_count": 228,
   "metadata": {},
   "outputs": [],
   "source": [
    "rows = df_nan.shape[0]\n",
    "G_ids = []\n",
    "for i in range(rows):\n",
    "    G_ids.append(starting_ID)\n",
    "    starting_ID += 1"
   ]
  },
  {
   "cell_type": "code",
   "execution_count": 232,
   "metadata": {},
   "outputs": [
    {
     "name": "stderr",
     "output_type": "stream",
     "text": [
      "/var/folders/2v/wnvclmc50p7dm25wgtwp72jr0000gn/T/ipykernel_4439/2378012856.py:1: SettingWithCopyWarning: \n",
      "A value is trying to be set on a copy of a slice from a DataFrame.\n",
      "Try using .loc[row_indexer,col_indexer] = value instead\n",
      "\n",
      "See the caveats in the documentation: https://pandas.pydata.org/pandas-docs/stable/user_guide/indexing.html#returning-a-view-versus-a-copy\n",
      "  df_nan[\"Group_ID\"] = G_ids\n",
      "/var/folders/2v/wnvclmc50p7dm25wgtwp72jr0000gn/T/ipykernel_4439/2378012856.py:2: SettingWithCopyWarning: \n",
      "A value is trying to be set on a copy of a slice from a DataFrame.\n",
      "Try using .loc[row_indexer,col_indexer] = value instead\n",
      "\n",
      "See the caveats in the documentation: https://pandas.pydata.org/pandas-docs/stable/user_guide/indexing.html#returning-a-view-versus-a-copy\n",
      "  df_nan[\"Group_ID\"] = df_nan[\"Group_ID\"].astype(float)\n"
     ]
    }
   ],
   "source": [
    "df_nan[\"Group_ID\"] = G_ids\n",
    "df_nan[\"Group_ID\"] = df_nan[\"Group_ID\"].astype(float)"
   ]
  },
  {
   "cell_type": "code",
   "execution_count": 233,
   "metadata": {},
   "outputs": [
    {
     "data": {
      "text/html": [
       "<div>\n",
       "<style scoped>\n",
       "    .dataframe tbody tr th:only-of-type {\n",
       "        vertical-align: middle;\n",
       "    }\n",
       "\n",
       "    .dataframe tbody tr th {\n",
       "        vertical-align: top;\n",
       "    }\n",
       "\n",
       "    .dataframe thead th {\n",
       "        text-align: right;\n",
       "    }\n",
       "</style>\n",
       "<table border=\"1\" class=\"dataframe\">\n",
       "  <thead>\n",
       "    <tr style=\"text-align: right;\">\n",
       "      <th></th>\n",
       "      <th>Internal ID</th>\n",
       "      <th>Name</th>\n",
       "      <th>Created Date</th>\n",
       "      <th>Sectors</th>\n",
       "      <th>Clean_Name</th>\n",
       "      <th>Matches</th>\n",
       "      <th>Group_ID</th>\n",
       "    </tr>\n",
       "  </thead>\n",
       "  <tbody>\n",
       "    <tr>\n",
       "      <th>10</th>\n",
       "      <td>749047</td>\n",
       "      <td>‚á•BPM PROJECTS PTY LTD</td>\n",
       "      <td>2023-06-21 09:14:26.201</td>\n",
       "      <td>NaN</td>\n",
       "      <td>Bpm Projects</td>\n",
       "      <td>[]</td>\n",
       "      <td>73826.0</td>\n",
       "    </tr>\n",
       "    <tr>\n",
       "      <th>11</th>\n",
       "      <td>749057</td>\n",
       "      <td>‚á•CALUTIONS PTY LTD</td>\n",
       "      <td>2023-06-21 09:14:26.201</td>\n",
       "      <td>NaN</td>\n",
       "      <td>Calutions</td>\n",
       "      <td>[]</td>\n",
       "      <td>73827.0</td>\n",
       "    </tr>\n",
       "    <tr>\n",
       "      <th>16</th>\n",
       "      <td>749060</td>\n",
       "      <td>‚á•GARDEX PTY LTD</td>\n",
       "      <td>2023-06-21 09:14:26.201</td>\n",
       "      <td>NaN</td>\n",
       "      <td>Gardex</td>\n",
       "      <td>[]</td>\n",
       "      <td>73828.0</td>\n",
       "    </tr>\n",
       "    <tr>\n",
       "      <th>17</th>\n",
       "      <td>749064</td>\n",
       "      <td>‚á•HEATH MOTOR GROUP PTY LTD</td>\n",
       "      <td>2023-06-21 09:14:26.201</td>\n",
       "      <td>NaN</td>\n",
       "      <td>Heath Motor Group</td>\n",
       "      <td>[]</td>\n",
       "      <td>73829.0</td>\n",
       "    </tr>\n",
       "    <tr>\n",
       "      <th>20</th>\n",
       "      <td>749051</td>\n",
       "      <td>‚á•The Trustee for The S &amp; H McBride Family Trust</td>\n",
       "      <td>2023-06-21 09:14:26.201</td>\n",
       "      <td>NaN</td>\n",
       "      <td>The Trustee For The S &amp; H Mcbride Family Trust</td>\n",
       "      <td>[]</td>\n",
       "      <td>73830.0</td>\n",
       "    </tr>\n",
       "    <tr>\n",
       "      <th>...</th>\n",
       "      <td>...</td>\n",
       "      <td>...</td>\n",
       "      <td>...</td>\n",
       "      <td>...</td>\n",
       "      <td>...</td>\n",
       "      <td>...</td>\n",
       "      <td>...</td>\n",
       "    </tr>\n",
       "    <tr>\n",
       "      <th>631818</th>\n",
       "      <td>81197</td>\n",
       "      <td>Zylux Distribution Pty Ltd</td>\n",
       "      <td>2021-09-30 00:00:00.000</td>\n",
       "      <td>Wholesale trade and commission trade services,...</td>\n",
       "      <td>Zylux Distribution</td>\n",
       "      <td>[]</td>\n",
       "      <td>114309.0</td>\n",
       "    </tr>\n",
       "    <tr>\n",
       "      <th>631819</th>\n",
       "      <td>747885</td>\n",
       "      <td>Zymeworks Inc</td>\n",
       "      <td>2023-06-20 00:42:03.253</td>\n",
       "      <td>Health and social work services</td>\n",
       "      <td>Zymeworks</td>\n",
       "      <td>[]</td>\n",
       "      <td>114310.0</td>\n",
       "    </tr>\n",
       "    <tr>\n",
       "      <th>631820</th>\n",
       "      <td>113001</td>\n",
       "      <td>ZYNGA INC - CL A USD 0.000006</td>\n",
       "      <td>2022-06-30 00:00:00.000</td>\n",
       "      <td>Computer and related services|Recreational, cu...</td>\n",
       "      <td>Zynga Cl A Usd</td>\n",
       "      <td>[]</td>\n",
       "      <td>114311.0</td>\n",
       "    </tr>\n",
       "    <tr>\n",
       "      <th>631827</th>\n",
       "      <td>269849</td>\n",
       "      <td>ZZZ Meats Pty Ltd</td>\n",
       "      <td>2022-06-26 00:00:00.000</td>\n",
       "      <td>Meat products nec</td>\n",
       "      <td>Zzz Meats</td>\n",
       "      <td>[]</td>\n",
       "      <td>114312.0</td>\n",
       "    </tr>\n",
       "    <tr>\n",
       "      <th>631828</th>\n",
       "      <td>236103</td>\n",
       "      <td>ZZZFL0066 - FLEXTRONICS TECHNOLOGIES India PVT...</td>\n",
       "      <td>2021-08-29 00:00:00.000</td>\n",
       "      <td>Sale, maintenance, repair of motor vehicles, m...</td>\n",
       "      <td>Zzzflflextronics Technologies India Pvt</td>\n",
       "      <td>[]</td>\n",
       "      <td>114313.0</td>\n",
       "    </tr>\n",
       "  </tbody>\n",
       "</table>\n",
       "<p>40488 rows × 7 columns</p>\n",
       "</div>"
      ],
      "text/plain": [
       "        Internal ID                                               Name  \\\n",
       "10           749047                            ‚á•BPM PROJECTS PTY LTD   \n",
       "11           749057                               ‚á•CALUTIONS PTY LTD   \n",
       "16           749060                                  ‚á•GARDEX PTY LTD   \n",
       "17           749064                       ‚á•HEATH MOTOR GROUP PTY LTD   \n",
       "20           749051  ‚á•The Trustee for The S & H McBride Family Trust   \n",
       "...             ...                                                ...   \n",
       "631818        81197                         Zylux Distribution Pty Ltd   \n",
       "631819       747885                                      Zymeworks Inc   \n",
       "631820       113001                      ZYNGA INC - CL A USD 0.000006   \n",
       "631827       269849                                  ZZZ Meats Pty Ltd   \n",
       "631828       236103  ZZZFL0066 - FLEXTRONICS TECHNOLOGIES India PVT...   \n",
       "\n",
       "                   Created Date  \\\n",
       "10      2023-06-21 09:14:26.201   \n",
       "11      2023-06-21 09:14:26.201   \n",
       "16      2023-06-21 09:14:26.201   \n",
       "17      2023-06-21 09:14:26.201   \n",
       "20      2023-06-21 09:14:26.201   \n",
       "...                         ...   \n",
       "631818  2021-09-30 00:00:00.000   \n",
       "631819  2023-06-20 00:42:03.253   \n",
       "631820  2022-06-30 00:00:00.000   \n",
       "631827  2022-06-26 00:00:00.000   \n",
       "631828  2021-08-29 00:00:00.000   \n",
       "\n",
       "                                                  Sectors  \\\n",
       "10                                                    NaN   \n",
       "11                                                    NaN   \n",
       "16                                                    NaN   \n",
       "17                                                    NaN   \n",
       "20                                                    NaN   \n",
       "...                                                   ...   \n",
       "631818  Wholesale trade and commission trade services,...   \n",
       "631819                    Health and social work services   \n",
       "631820  Computer and related services|Recreational, cu...   \n",
       "631827                                  Meat products nec   \n",
       "631828  Sale, maintenance, repair of motor vehicles, m...   \n",
       "\n",
       "                                            Clean_Name Matches  Group_ID  \n",
       "10                                        Bpm Projects      []   73826.0  \n",
       "11                                           Calutions      []   73827.0  \n",
       "16                                              Gardex      []   73828.0  \n",
       "17                                   Heath Motor Group      []   73829.0  \n",
       "20      The Trustee For The S & H Mcbride Family Trust      []   73830.0  \n",
       "...                                                ...     ...       ...  \n",
       "631818                              Zylux Distribution      []  114309.0  \n",
       "631819                                       Zymeworks      []  114310.0  \n",
       "631820                                  Zynga Cl A Usd      []  114311.0  \n",
       "631827                                       Zzz Meats      []  114312.0  \n",
       "631828         Zzzflflextronics Technologies India Pvt      []  114313.0  \n",
       "\n",
       "[40488 rows x 7 columns]"
      ]
     },
     "execution_count": 233,
     "metadata": {},
     "output_type": "execute_result"
    }
   ],
   "source": [
    "df_nan"
   ]
  },
  {
   "cell_type": "code",
   "execution_count": 238,
   "metadata": {},
   "outputs": [],
   "source": [
    "Removed_nan_df = result.dropna(subset=['Group_ID'])"
   ]
  },
  {
   "cell_type": "code",
   "execution_count": 239,
   "metadata": {},
   "outputs": [],
   "source": [
    "FINAL_DF = pd.concat([Removed_nan_df, df_nan])"
   ]
  },
  {
   "cell_type": "code",
   "execution_count": 240,
   "metadata": {},
   "outputs": [
    {
     "data": {
      "text/html": [
       "<div>\n",
       "<style scoped>\n",
       "    .dataframe tbody tr th:only-of-type {\n",
       "        vertical-align: middle;\n",
       "    }\n",
       "\n",
       "    .dataframe tbody tr th {\n",
       "        vertical-align: top;\n",
       "    }\n",
       "\n",
       "    .dataframe thead th {\n",
       "        text-align: right;\n",
       "    }\n",
       "</style>\n",
       "<table border=\"1\" class=\"dataframe\">\n",
       "  <thead>\n",
       "    <tr style=\"text-align: right;\">\n",
       "      <th></th>\n",
       "      <th>Internal ID</th>\n",
       "      <th>Name</th>\n",
       "      <th>Created Date</th>\n",
       "      <th>Sectors</th>\n",
       "      <th>Clean_Name</th>\n",
       "      <th>Matches</th>\n",
       "      <th>Group_ID</th>\n",
       "    </tr>\n",
       "  </thead>\n",
       "  <tbody>\n",
       "    <tr>\n",
       "      <th>0</th>\n",
       "      <td>333317</td>\n",
       "      <td>NaN</td>\n",
       "      <td>2022-09-13 23:13:53.907</td>\n",
       "      <td>Lead, zinc and tin ores and concentrates</td>\n",
       "      <td>Nan</td>\n",
       "      <td>[34709, 34523, 34453, 36680, 665030, 35188, 14...</td>\n",
       "      <td>136</td>\n",
       "    </tr>\n",
       "    <tr>\n",
       "      <th>1</th>\n",
       "      <td>333316</td>\n",
       "      <td>NaN</td>\n",
       "      <td>2022-09-13 23:13:53.907</td>\n",
       "      <td>Computer and related services</td>\n",
       "      <td>Nan</td>\n",
       "      <td>[333317, 34709, 34523, 34453, 36680, 665030, 3...</td>\n",
       "      <td>136</td>\n",
       "    </tr>\n",
       "    <tr>\n",
       "      <th>2</th>\n",
       "      <td>333315</td>\n",
       "      <td>NaN</td>\n",
       "      <td>2022-09-13 23:13:53.907</td>\n",
       "      <td>Aviation Gasoline</td>\n",
       "      <td>Nan</td>\n",
       "      <td>[333317, 333316, 34709, 34523, 34453, 36680, 6...</td>\n",
       "      <td>136</td>\n",
       "    </tr>\n",
       "    <tr>\n",
       "      <th>3</th>\n",
       "      <td>333314</td>\n",
       "      <td>NaN</td>\n",
       "      <td>2022-09-13 23:13:53.907</td>\n",
       "      <td>Ash for treatment, Re-processing of ash into c...</td>\n",
       "      <td>Nan</td>\n",
       "      <td>[333317, 333316, 333315, 34709, 34523, 34453, ...</td>\n",
       "      <td>136</td>\n",
       "    </tr>\n",
       "    <tr>\n",
       "      <th>4</th>\n",
       "      <td>333313</td>\n",
       "      <td>NaN</td>\n",
       "      <td>2022-09-13 23:13:53.907</td>\n",
       "      <td>Aviation Gasoline</td>\n",
       "      <td>Nan</td>\n",
       "      <td>[333317, 333316, 333315, 333314, 34709, 34523,...</td>\n",
       "      <td>136</td>\n",
       "    </tr>\n",
       "    <tr>\n",
       "      <th>...</th>\n",
       "      <td>...</td>\n",
       "      <td>...</td>\n",
       "      <td>...</td>\n",
       "      <td>...</td>\n",
       "      <td>...</td>\n",
       "      <td>...</td>\n",
       "      <td>...</td>\n",
       "    </tr>\n",
       "    <tr>\n",
       "      <th>631818</th>\n",
       "      <td>81197</td>\n",
       "      <td>Zylux Distribution Pty Ltd</td>\n",
       "      <td>2021-09-30 00:00:00.000</td>\n",
       "      <td>Wholesale trade and commission trade services,...</td>\n",
       "      <td>Zylux Distribution</td>\n",
       "      <td>[]</td>\n",
       "      <td>114309.0</td>\n",
       "    </tr>\n",
       "    <tr>\n",
       "      <th>631819</th>\n",
       "      <td>747885</td>\n",
       "      <td>Zymeworks Inc</td>\n",
       "      <td>2023-06-20 00:42:03.253</td>\n",
       "      <td>Health and social work services</td>\n",
       "      <td>Zymeworks</td>\n",
       "      <td>[]</td>\n",
       "      <td>114310.0</td>\n",
       "    </tr>\n",
       "    <tr>\n",
       "      <th>631820</th>\n",
       "      <td>113001</td>\n",
       "      <td>ZYNGA INC - CL A USD 0.000006</td>\n",
       "      <td>2022-06-30 00:00:00.000</td>\n",
       "      <td>Computer and related services|Recreational, cu...</td>\n",
       "      <td>Zynga Cl A Usd</td>\n",
       "      <td>[]</td>\n",
       "      <td>114311.0</td>\n",
       "    </tr>\n",
       "    <tr>\n",
       "      <th>631827</th>\n",
       "      <td>269849</td>\n",
       "      <td>ZZZ Meats Pty Ltd</td>\n",
       "      <td>2022-06-26 00:00:00.000</td>\n",
       "      <td>Meat products nec</td>\n",
       "      <td>Zzz Meats</td>\n",
       "      <td>[]</td>\n",
       "      <td>114312.0</td>\n",
       "    </tr>\n",
       "    <tr>\n",
       "      <th>631828</th>\n",
       "      <td>236103</td>\n",
       "      <td>ZZZFL0066 - FLEXTRONICS TECHNOLOGIES India PVT...</td>\n",
       "      <td>2021-08-29 00:00:00.000</td>\n",
       "      <td>Sale, maintenance, repair of motor vehicles, m...</td>\n",
       "      <td>Zzzflflextronics Technologies India Pvt</td>\n",
       "      <td>[]</td>\n",
       "      <td>114313.0</td>\n",
       "    </tr>\n",
       "  </tbody>\n",
       "</table>\n",
       "<p>631829 rows × 7 columns</p>\n",
       "</div>"
      ],
      "text/plain": [
       "        Internal ID                                               Name  \\\n",
       "0            333317                                                NaN   \n",
       "1            333316                                                NaN   \n",
       "2            333315                                                NaN   \n",
       "3            333314                                                NaN   \n",
       "4            333313                                                NaN   \n",
       "...             ...                                                ...   \n",
       "631818        81197                         Zylux Distribution Pty Ltd   \n",
       "631819       747885                                      Zymeworks Inc   \n",
       "631820       113001                      ZYNGA INC - CL A USD 0.000006   \n",
       "631827       269849                                  ZZZ Meats Pty Ltd   \n",
       "631828       236103  ZZZFL0066 - FLEXTRONICS TECHNOLOGIES India PVT...   \n",
       "\n",
       "                   Created Date  \\\n",
       "0       2022-09-13 23:13:53.907   \n",
       "1       2022-09-13 23:13:53.907   \n",
       "2       2022-09-13 23:13:53.907   \n",
       "3       2022-09-13 23:13:53.907   \n",
       "4       2022-09-13 23:13:53.907   \n",
       "...                         ...   \n",
       "631818  2021-09-30 00:00:00.000   \n",
       "631819  2023-06-20 00:42:03.253   \n",
       "631820  2022-06-30 00:00:00.000   \n",
       "631827  2022-06-26 00:00:00.000   \n",
       "631828  2021-08-29 00:00:00.000   \n",
       "\n",
       "                                                  Sectors  \\\n",
       "0                Lead, zinc and tin ores and concentrates   \n",
       "1                           Computer and related services   \n",
       "2                                       Aviation Gasoline   \n",
       "3       Ash for treatment, Re-processing of ash into c...   \n",
       "4                                       Aviation Gasoline   \n",
       "...                                                   ...   \n",
       "631818  Wholesale trade and commission trade services,...   \n",
       "631819                    Health and social work services   \n",
       "631820  Computer and related services|Recreational, cu...   \n",
       "631827                                  Meat products nec   \n",
       "631828  Sale, maintenance, repair of motor vehicles, m...   \n",
       "\n",
       "                                     Clean_Name  \\\n",
       "0                                           Nan   \n",
       "1                                           Nan   \n",
       "2                                           Nan   \n",
       "3                                           Nan   \n",
       "4                                           Nan   \n",
       "...                                         ...   \n",
       "631818                       Zylux Distribution   \n",
       "631819                                Zymeworks   \n",
       "631820                           Zynga Cl A Usd   \n",
       "631827                                Zzz Meats   \n",
       "631828  Zzzflflextronics Technologies India Pvt   \n",
       "\n",
       "                                                  Matches  Group_ID  \n",
       "0       [34709, 34523, 34453, 36680, 665030, 35188, 14...       136  \n",
       "1       [333317, 34709, 34523, 34453, 36680, 665030, 3...       136  \n",
       "2       [333317, 333316, 34709, 34523, 34453, 36680, 6...       136  \n",
       "3       [333317, 333316, 333315, 34709, 34523, 34453, ...       136  \n",
       "4       [333317, 333316, 333315, 333314, 34709, 34523,...       136  \n",
       "...                                                   ...       ...  \n",
       "631818                                                 []  114309.0  \n",
       "631819                                                 []  114310.0  \n",
       "631820                                                 []  114311.0  \n",
       "631827                                                 []  114312.0  \n",
       "631828                                                 []  114313.0  \n",
       "\n",
       "[631829 rows x 7 columns]"
      ]
     },
     "execution_count": 240,
     "metadata": {},
     "output_type": "execute_result"
    }
   ],
   "source": [
    "FINAL_DF"
   ]
  },
  {
   "cell_type": "code",
   "execution_count": 241,
   "metadata": {},
   "outputs": [
    {
     "data": {
      "text/plain": [
       "(631829, 7)"
      ]
     },
     "execution_count": 241,
     "metadata": {},
     "output_type": "execute_result"
    }
   ],
   "source": [
    "result.shape"
   ]
  },
  {
   "cell_type": "code",
   "execution_count": 242,
   "metadata": {},
   "outputs": [],
   "source": [
    "FINAL_DF.to_excel(\"matching_results_w_GroupIDs.xlsx\", index=False)"
   ]
  },
  {
   "attachments": {},
   "cell_type": "markdown",
   "metadata": {},
   "source": [
    "# FINISHED"
   ]
  },
  {
   "cell_type": "code",
   "execution_count": 251,
   "metadata": {},
   "outputs": [],
   "source": [
    "FINAL_DF.to_csv(\"matching_results_w_GroupIDs.csv\", index=False)"
   ]
  },
  {
   "cell_type": "code",
   "execution_count": null,
   "metadata": {},
   "outputs": [],
   "source": []
  },
  {
   "attachments": {},
   "cell_type": "markdown",
   "metadata": {},
   "source": [
    "# looking at power laws"
   ]
  },
  {
   "cell_type": "code",
   "execution_count": 268,
   "metadata": {},
   "outputs": [],
   "source": [
    "lengths = []\n",
    "for cc in DCs:\n",
    "    lengths.append(len(cc))\n",
    "\n",
    "for i in range (40488):\n",
    "    lengths.append(1)"
   ]
  },
  {
   "cell_type": "code",
   "execution_count": 269,
   "metadata": {},
   "outputs": [],
   "source": [
    "lengths_series = pd.Series(lengths)"
   ]
  },
  {
   "cell_type": "code",
   "execution_count": 287,
   "metadata": {},
   "outputs": [
    {
     "data": {
      "text/plain": [
       "<AxesSubplot:>"
      ]
     },
     "execution_count": 287,
     "metadata": {},
     "output_type": "execute_result"
    },
    {
     "data": {
      "image/png": "[encoded data removed]",
      "text/plain": [
       "<Figure size 432x288 with 1 Axes>"
      ]
     },
     "metadata": {
      "needs_background": "light"
     },
     "output_type": "display_data"
    }
   ],
   "source": [
    "lengths_series.hist(bins=50, log=True)"
   ]
  },
  {
   "cell_type": "code",
   "execution_count": 286,
   "metadata": {},
   "outputs": [
    {
     "data": {
      "image/png": "[encoded data removed]",
      "text/plain": [
       "<Figure size 432x288 with 1 Axes>"
      ]
     },
     "metadata": {
      "needs_background": "light"
     },
     "output_type": "display_data"
    }
   ],
   "source": [
    "import pandas as pd\n",
    "import numpy as np\n",
    "import matplotlib.pyplot as plt\n",
    "\n",
    "# Create a DataFrame\n",
    "df = pd.DataFrame({\n",
    "   'values': np.random.normal(100, 10, 5000)\n",
    "})\n",
    "\n",
    "# Plot a horizontal histogram with log scale\n",
    "plt.hist(lengths_series, bins=50, log=True, orientation='horizontal')\n",
    "\n",
    "plt.show()\n"
   ]
  },
  {
   "cell_type": "code",
   "execution_count": 288,
   "metadata": {},
   "outputs": [
    {
     "data": {
      "image/png": "[encoded data removed]",
      "text/plain": [
       "<Figure size 432x288 with 1 Axes>"
      ]
     },
     "metadata": {
      "needs_background": "light"
     },
     "output_type": "display_data"
    }
   ],
   "source": [
    "import pandas as pd\n",
    "import numpy as np\n",
    "import matplotlib.pyplot as plt\n",
    "\n",
    "data = lengths_series\n",
    "\n",
    "# Compute frequencies\n",
    "frequencies = data.value_counts()\n",
    "\n",
    "# Sort frequencies in descending order\n",
    "sorted_freq = frequencies.sort_values(ascending=False)\n",
    "\n",
    "# Generate rank data\n",
    "ranks = np.arange(1, len(sorted_freq) + 1)\n",
    "\n",
    "# Create a rank-frequency plot\n",
    "plt.loglog(ranks, sorted_freq.values)\n",
    "\n",
    "# Add labels and title\n",
    "plt.xlabel('Rank')\n",
    "plt.ylabel('Frequency')\n",
    "plt.title('Rank-Frequency Plot')\n",
    "\n",
    "plt.show()\n"
   ]
  },
  {
   "cell_type": "code",
   "execution_count": 289,
   "metadata": {},
   "outputs": [
    {
     "data": {
      "image/png": "[encoded data removed]",
      "text/plain": [
       "<Figure size 432x288 with 1 Axes>"
      ]
     },
     "metadata": {
      "needs_background": "light"
     },
     "output_type": "display_data"
    }
   ],
   "source": [
    "import pandas as pd\n",
    "import numpy as np\n",
    "import matplotlib.pyplot as plt\n",
    "\n",
    "data = lengths_series\n",
    "\n",
    "# Compute frequencies\n",
    "frequencies = data.value_counts()\n",
    "\n",
    "# Sort frequencies in descending order\n",
    "sorted_freq = frequencies.sort_values(ascending=False)\n",
    "\n",
    "# Compute cumulative frequencies\n",
    "cumulative_freq = np.cumsum(sorted_freq.values)\n",
    "\n",
    "# Normalize cumulative frequencies to get a CDF\n",
    "cdf = cumulative_freq / cumulative_freq[-1]\n",
    "\n",
    "# Generate rank data\n",
    "ranks = np.arange(1, len(sorted_freq) + 1)\n",
    "\n",
    "# Create a rank-cdf plot\n",
    "plt.loglog(ranks, cdf)\n",
    "\n",
    "# Add labels and title\n",
    "plt.xlabel('Rank')\n",
    "plt.ylabel('CDF')\n",
    "plt.title('Rank-CDF Plot')\n",
    "\n",
    "plt.show()\n"
   ]
  },
  {
   "cell_type": "code",
   "execution_count": 296,
   "metadata": {},
   "outputs": [
    {
     "data": {
      "image/png": "[encoded data removed]",
      "text/plain": [
       "<Figure size 432x288 with 1 Axes>"
      ]
     },
     "metadata": {
      "needs_background": "light"
     },
     "output_type": "display_data"
    }
   ],
   "source": [
    "import pandas as pd\n",
    "import numpy as np\n",
    "import matplotlib.pyplot as plt\n",
    "\n",
    "# Create a DataFrame\n",
    "data = lengths_series\n",
    "\n",
    "# Number of bins\n",
    "bins = 100\n",
    "\n",
    "# Compute histogram\n",
    "values, bin_edges = np.histogram(data, bins=bins)\n",
    "\n",
    "# Convert counts to percentages\n",
    "values = values / len(data) * 100\n",
    "\n",
    "# Compute bin centers\n",
    "bin_centers = (bin_edges[1:] + bin_edges[:-1]) / 2\n",
    "\n",
    "# Plot histogram of percentages\n",
    "plt.bar(bin_centers, values, width=(bin_edges[1] - bin_edges[0]))\n",
    "\n",
    "# Add labels and title\n",
    "plt.xlabel('Value')\n",
    "plt.ylabel('Percentage (%)')\n",
    "plt.title('Histogram of Percentages')\n",
    "\n",
    "plt.show()\n"
   ]
  },
  {
   "cell_type": "code",
   "execution_count": 2,
   "metadata": {},
   "outputs": [
    {
     "ename": "NameError",
     "evalue": "name 'lengths_series' is not defined",
     "output_type": "error",
     "traceback": [
      "\u001b[0;31m---------------------------------------------------------------------------\u001b[0m",
      "\u001b[0;31mNameError\u001b[0m                                 Traceback (most recent call last)",
      "\u001b[1;32m/Users/williamryan/PROJECTS/All_Records_Fuzzy_Matching/Similarity_For_All_Records.ipynb Cell 84\u001b[0m in \u001b[0;36m<cell line: 1>\u001b[0;34m()\u001b[0m\n\u001b[0;32m----> <a href='vscode-notebook-cell:/Users/williamryan/PROJECTS/All_Records_Fuzzy_Matching/Similarity_For_All_Records.ipynb#Y146sZmlsZQ%3D%3D?line=0'>1</a>\u001b[0m lengths_series\n",
      "\u001b[0;31mNameError\u001b[0m: name 'lengths_series' is not defined"
     ]
    }
   ],
   "source": [
    "lengths_series"
   ]
  },
  {
   "cell_type": "code",
   "execution_count": null,
   "metadata": {},
   "outputs": [],
   "source": []
  }
 ],
 "metadata": {
  "kernelspec": {
   "display_name": ".venv",
   "language": "python",
   "name": "python3"
  },
  "language_info": {
   "codemirror_mode": {
    "name": "ipython",
    "version": 3
   },
   "file_extension": ".py",
   "mimetype": "text/x-python",
   "name": "python",
   "nbconvert_exporter": "python",
   "pygments_lexer": "ipython3",
   "version": "3.13.7"
  },
  "orig_nbformat": 4
 },
 "nbformat": 4,
 "nbformat_minor": 2
}
