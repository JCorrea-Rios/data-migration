{
 "cells": [
  {
   "cell_type": "code",
   "execution_count": 3,
   "metadata": {},
   "outputs": [
    {
     "name": "stdout",
     "output_type": "stream",
     "text": [
      "Estimated memory for a 600000x600000 matrix of float64: 2682.209014892578 GB\n"
     ]
    }
   ],
   "source": [
    "def estimate_matrix_memory(rows: int, cols: int, datatype: str) -> float:\n",
    "    \"\"\"\n",
    "    Estimate the memory footprint of a matrix.\n",
    "\n",
    "    :param rows: Number of rows in the matrix.\n",
    "    :param cols: Number of columns in the matrix.\n",
    "    :param datatype: Datatype of the matrix elements. Should be one of 'float64', 'float32', 'int64', etc.\n",
    "    :return: Memory footprint of the matrix in gigabytes.\n",
    "    \"\"\"\n",
    "    if datatype == 'float64':\n",
    "        bytes_per_element = 8\n",
    "    elif datatype == 'float32' or datatype == 'int32':\n",
    "        bytes_per_element = 4\n",
    "    elif datatype == 'float16' or datatype == 'int16':\n",
    "        bytes_per_element = 2\n",
    "    elif datatype == 'int8':\n",
    "        bytes_per_element = 1\n",
    "    else:\n",
    "        raise ValueError(f\"Unsupported datatype '{datatype}'\")\n",
    "\n",
    "    total_bytes = rows * cols * bytes_per_element\n",
    "    gigabytes = total_bytes / (1024 ** 3)  # Convert to gigabytes\n",
    "    return gigabytes\n",
    "\n",
    "# Example usage\n",
    "rows, cols = 600_000, 600_000\n",
    "datatype = 'float64'\n",
    "print(f\"Estimated memory for a {rows}x{cols} matrix of {datatype}: {estimate_matrix_memory(rows, cols, datatype)} GB\")\n"
   ]
  },
  {
   "cell_type": "code",
   "execution_count": 4,
   "metadata": {},
   "outputs": [
    {
     "name": "stdout",
     "output_type": "stream",
     "text": [
      "Estimated memory for a 60000x60000 matrix of float64: 26.82209014892578 GB\n"
     ]
    }
   ],
   "source": [
    "# Example usage\n",
    "rows, cols = 60000, 60000\n",
    "datatype = 'float64'\n",
    "print(f\"Estimated memory for a {rows}x{cols} matrix of {datatype}: {estimate_matrix_memory(rows, cols, datatype)} GB\")\n"
   ]
  },
  {
   "cell_type": "code",
   "execution_count": 8,
   "metadata": {},
   "outputs": [
    {
     "name": "stdout",
     "output_type": "stream",
     "text": [
      "Estimated memory for a 60000x60000 matrix of float16: 6.705522537231445 GB\n"
     ]
    }
   ],
   "source": [
    "# Example usage\n",
    "rows, cols = 60000, 60000\n",
    "datatype = 'float16'\n",
    "print(f\"Estimated memory for a {rows}x{cols} matrix of {datatype}: {estimate_matrix_memory(rows, cols, datatype)} GB\")\n"
   ]
  },
  {
   "cell_type": "code",
   "execution_count": 6,
   "metadata": {},
   "outputs": [
    {
     "name": "stdout",
     "output_type": "stream",
     "text": [
      "Estimated memory for a 100000x100000 matrix of float16: 18.62645149230957 GB\n"
     ]
    }
   ],
   "source": [
    "# Example usage\n",
    "rows, cols = 100000, 100000\n",
    "datatype = 'float16'\n",
    "print(f\"Estimated memory for a {rows}x{cols} matrix of {datatype}: {estimate_matrix_memory(rows, cols, datatype)} GB\")\n"
   ]
  },
  {
   "cell_type": "code",
   "execution_count": 12,
   "metadata": {},
   "outputs": [
    {
     "name": "stdout",
     "output_type": "stream",
     "text": [
      "Estimated memory for a 36000x600000 matrix of float32: 80.46627044677734 GB\n"
     ]
    }
   ],
   "source": [
    "# Example usage\n",
    "rows, cols = 36000, 600000\n",
    "datatype = 'float32'\n",
    "print(f\"Estimated memory for a {rows}x{cols} matrix of {datatype}: {estimate_matrix_memory(rows, cols, datatype)} GB\")\n"
   ]
  },
  {
   "cell_type": "code",
   "execution_count": 13,
   "metadata": {},
   "outputs": [
    {
     "name": "stdout",
     "output_type": "stream",
     "text": [
      "Estimated memory for a 36000x36000 matrix of float32: 4.827976226806641 GB\n"
     ]
    }
   ],
   "source": [
    "# Example usage\n",
    "rows, cols = 36000, 36000\n",
    "datatype = 'float32'\n",
    "print(f\"Estimated memory for a {rows}x{cols} matrix of {datatype}: {estimate_matrix_memory(rows, cols, datatype)} GB\")\n"
   ]
  },
  {
   "cell_type": "code",
   "execution_count": null,
   "metadata": {},
   "outputs": [],
   "source": []
  }
 ],
 "metadata": {
  "kernelspec": {
   "display_name": "base",
   "language": "python",
   "name": "python3"
  },
  "language_info": {
   "codemirror_mode": {
    "name": "ipython",
    "version": 3
   },
   "file_extension": ".py",
   "mimetype": "text/x-python",
   "name": "python",
   "nbconvert_exporter": "python",
   "pygments_lexer": "ipython3",
   "version": "3.9.12"
  },
  "orig_nbformat": 4
 },
 "nbformat": 4,
 "nbformat_minor": 2
}
