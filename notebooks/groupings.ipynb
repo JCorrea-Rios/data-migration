{
 "cells": [
  {
   "cell_type": "markdown",
   "id": "6e3dd621",
   "metadata": {},
   "source": [
    "# Grouping and clusters"
   ]
  },
  {
   "cell_type": "code",
   "execution_count": 1,
   "id": "d871862c",
   "metadata": {},
   "outputs": [],
   "source": [
    "import pandas as pd\n",
    "import numpy as np\n"
   ]
  },
  {
   "cell_type": "code",
   "execution_count": 22,
   "id": "f719e8ad",
   "metadata": {},
   "outputs": [],
   "source": [
    "df = pd.read_csv(\"../output/unique_names_sanitised_v5.csv\")"
   ]
  },
  {
   "cell_type": "code",
   "execution_count": 23,
   "id": "2e8ea4e3",
   "metadata": {},
   "outputs": [
    {
     "data": {
      "text/plain": [
       "241433"
      ]
     },
     "execution_count": 23,
     "metadata": {},
     "output_type": "execute_result"
    }
   ],
   "source": [
    "len(df['sanitized_name'].unique())"
   ]
  },
  {
   "cell_type": "code",
   "execution_count": 18,
   "id": "db88211c",
   "metadata": {},
   "outputs": [
    {
     "data": {
      "text/plain": [
       "229766"
      ]
     },
     "execution_count": 18,
     "metadata": {},
     "output_type": "execute_result"
    }
   ],
   "source": [
    "len(df[df['count'] == 1])"
   ]
  },
  {
   "cell_type": "code",
   "execution_count": 19,
   "id": "9c7fa02b",
   "metadata": {},
   "outputs": [
    {
     "data": {
      "text/plain": [
       "249224"
      ]
     },
     "execution_count": 19,
     "metadata": {},
     "output_type": "execute_result"
    }
   ],
   "source": [
    "df_orig = pd.read_csv(\"../output/unique_names_sanitised.csv\")\n",
    "len(df_orig['sanitized_name'].unique())\n",
    "# len(df_orig[df_orig['count'] == 1])\n",
    "\n",
    "# df_orig.head()\n",
    "\n"
   ]
  },
  {
   "cell_type": "code",
   "execution_count": null,
   "id": "f6960656",
   "metadata": {},
   "outputs": [],
   "source": []
  }
 ],
 "metadata": {
  "kernelspec": {
   "display_name": ".venv",
   "language": "python",
   "name": "python3"
  },
  "language_info": {
   "codemirror_mode": {
    "name": "ipython",
    "version": 3
   },
   "file_extension": ".py",
   "mimetype": "text/x-python",
   "name": "python",
   "nbconvert_exporter": "python",
   "pygments_lexer": "ipython3",
   "version": "3.13.7"
  }
 },
 "nbformat": 4,
 "nbformat_minor": 5
}
