{
 "cells": [
  {
   "cell_type": "code",
   "execution_count": 3,
   "metadata": {},
   "outputs": [],
   "source": [
    "path = \"Data/All_Records_Clean_Names.csv\"\n",
    "import pandas as pd\n",
    "df = pd.read_csv(path)"
   ]
  },
  {
   "cell_type": "code",
   "execution_count": 4,
   "metadata": {},
   "outputs": [],
   "source": [
    "from TFIDF_Sim_Utils import (ngrams,\n",
    "                             awesome_cossim_top,\n",
    "                             get_matches_df)"
   ]
  },
  {
   "cell_type": "code",
   "execution_count": 5,
   "metadata": {},
   "outputs": [],
   "source": [
    "df[\"Clean_Name\"] = df[\"Clean_Name\"].astype(str)"
   ]
  },
  {
   "cell_type": "code",
   "execution_count": 6,
   "metadata": {},
   "outputs": [],
   "source": [
    "from sklearn.feature_extraction.text import TfidfVectorizer\n",
    "company_names = df[\"Clean_Name\"]\n",
    "vectorizer = TfidfVectorizer(min_df=1, analyzer=ngrams)\n",
    "tf_idf_matrix = vectorizer.fit_transform(company_names)"
   ]
  },
  {
   "cell_type": "code",
   "execution_count": 12,
   "metadata": {},
   "outputs": [
    {
     "name": "stdout",
     "output_type": "stream",
     "text": [
      "TIME TAKEN: 526.0623099803925\n"
     ]
    }
   ],
   "source": [
    "import time\n",
    "t1 = time.time()\n",
    "matches = awesome_cossim_top(tf_idf_matrix, tf_idf_matrix.transpose(), 15, 0.9)\n",
    "t = time.time()-t1\n",
    "print(\"TIME TAKEN:\", t)"
   ]
  },
  {
   "cell_type": "code",
   "execution_count": 8,
   "metadata": {},
   "outputs": [],
   "source": [
    "matches_df = get_matches_df(matches, company_names, top=False)\n",
    "matches_df_exact_removed = matches_df[matches_df['similairity'] < 0.99999] # Remove all exact matches"
   ]
  },
  {
   "cell_type": "code",
   "execution_count": 9,
   "metadata": {},
   "outputs": [
    {
     "data": {
      "text/html": [
       "<div>\n",
       "<style scoped>\n",
       "    .dataframe tbody tr th:only-of-type {\n",
       "        vertical-align: middle;\n",
       "    }\n",
       "\n",
       "    .dataframe tbody tr th {\n",
       "        vertical-align: top;\n",
       "    }\n",
       "\n",
       "    .dataframe thead th {\n",
       "        text-align: right;\n",
       "    }\n",
       "</style>\n",
       "<table border=\"1\" class=\"dataframe\">\n",
       "  <thead>\n",
       "    <tr style=\"text-align: right;\">\n",
       "      <th></th>\n",
       "      <th>left_side</th>\n",
       "      <th>right_side</th>\n",
       "      <th>similairity</th>\n",
       "    </tr>\n",
       "  </thead>\n",
       "  <tbody>\n",
       "    <tr>\n",
       "      <th>4129948</th>\n",
       "      <td>Moodys Analytics Singapore Pte Moodys Analytic...</td>\n",
       "      <td>Moodys Analytics Singapore Pte</td>\n",
       "      <td>0.996428</td>\n",
       "    </tr>\n",
       "    <tr>\n",
       "      <th>4129942</th>\n",
       "      <td>Moodys Analytics Singapore Pte</td>\n",
       "      <td>Moodys Analytics Singapore Pte Moodys Analytic...</td>\n",
       "      <td>0.996428</td>\n",
       "    </tr>\n",
       "    <tr>\n",
       "      <th>4131406</th>\n",
       "      <td>Moodys Analytics Singapore Pte</td>\n",
       "      <td>Moodys Analytics Singapore Pte Moodys Analytic...</td>\n",
       "      <td>0.996428</td>\n",
       "    </tr>\n",
       "    <tr>\n",
       "      <th>4131398</th>\n",
       "      <td>Moodys Analytics Singapore Pte</td>\n",
       "      <td>Moodys Analytics Singapore Pte Moodys Analytic...</td>\n",
       "      <td>0.996428</td>\n",
       "    </tr>\n",
       "    <tr>\n",
       "      <th>4129950</th>\n",
       "      <td>Moodys Analytics Singapore Pte Moodys Analytic...</td>\n",
       "      <td>Moodys Analytics Singapore Pte</td>\n",
       "      <td>0.996428</td>\n",
       "    </tr>\n",
       "    <tr>\n",
       "      <th>4129949</th>\n",
       "      <td>Moodys Analytics Singapore Pte Moodys Analytic...</td>\n",
       "      <td>Moodys Analytics Singapore Pte</td>\n",
       "      <td>0.996428</td>\n",
       "    </tr>\n",
       "    <tr>\n",
       "      <th>4131422</th>\n",
       "      <td>Moodys Analytics Singapore Pte</td>\n",
       "      <td>Moodys Analytics Singapore Pte Moodys Analytic...</td>\n",
       "      <td>0.996428</td>\n",
       "    </tr>\n",
       "    <tr>\n",
       "      <th>4129947</th>\n",
       "      <td>Moodys Analytics Singapore Pte Moodys Analytic...</td>\n",
       "      <td>Moodys Analytics Singapore Pte</td>\n",
       "      <td>0.996428</td>\n",
       "    </tr>\n",
       "    <tr>\n",
       "      <th>4129946</th>\n",
       "      <td>Moodys Analytics Singapore Pte Moodys Analytic...</td>\n",
       "      <td>Moodys Analytics Singapore Pte</td>\n",
       "      <td>0.996428</td>\n",
       "    </tr>\n",
       "    <tr>\n",
       "      <th>4129945</th>\n",
       "      <td>Moodys Analytics Singapore Pte Moodys Analytic...</td>\n",
       "      <td>Moodys Analytics Singapore Pte</td>\n",
       "      <td>0.996428</td>\n",
       "    </tr>\n",
       "  </tbody>\n",
       "</table>\n",
       "</div>"
      ],
      "text/plain": [
       "                                                 left_side  \\\n",
       "4129948  Moodys Analytics Singapore Pte Moodys Analytic...   \n",
       "4129942                     Moodys Analytics Singapore Pte   \n",
       "4131406                     Moodys Analytics Singapore Pte   \n",
       "4131398                     Moodys Analytics Singapore Pte   \n",
       "4129950  Moodys Analytics Singapore Pte Moodys Analytic...   \n",
       "4129949  Moodys Analytics Singapore Pte Moodys Analytic...   \n",
       "4131422                     Moodys Analytics Singapore Pte   \n",
       "4129947  Moodys Analytics Singapore Pte Moodys Analytic...   \n",
       "4129946  Moodys Analytics Singapore Pte Moodys Analytic...   \n",
       "4129945  Moodys Analytics Singapore Pte Moodys Analytic...   \n",
       "\n",
       "                                                right_side  similairity  \n",
       "4129948                     Moodys Analytics Singapore Pte     0.996428  \n",
       "4129942  Moodys Analytics Singapore Pte Moodys Analytic...     0.996428  \n",
       "4131406  Moodys Analytics Singapore Pte Moodys Analytic...     0.996428  \n",
       "4131398  Moodys Analytics Singapore Pte Moodys Analytic...     0.996428  \n",
       "4129950                     Moodys Analytics Singapore Pte     0.996428  \n",
       "4129949                     Moodys Analytics Singapore Pte     0.996428  \n",
       "4131422  Moodys Analytics Singapore Pte Moodys Analytic...     0.996428  \n",
       "4129947                     Moodys Analytics Singapore Pte     0.996428  \n",
       "4129946                     Moodys Analytics Singapore Pte     0.996428  \n",
       "4129945                     Moodys Analytics Singapore Pte     0.996428  "
      ]
     },
     "execution_count": 9,
     "metadata": {},
     "output_type": "execute_result"
    }
   ],
   "source": [
    "matches_df_exact_removed = matches_df[matches_df['similairity'] < 0.99999]\n",
    "matches_df_exact_removed.sort_values(['similairity'], ascending=False).head(10)"
   ]
  },
  {
   "cell_type": "code",
   "execution_count": 10,
   "metadata": {},
   "outputs": [
    {
     "data": {
      "text/plain": [
       "(651930, 3)"
      ]
     },
     "execution_count": 10,
     "metadata": {},
     "output_type": "execute_result"
    }
   ],
   "source": [
    "# Distinct Entities\n",
    "matches_df_exact_removed.shape"
   ]
  },
  {
   "cell_type": "code",
   "execution_count": 11,
   "metadata": {},
   "outputs": [
    {
     "data": {
      "text/plain": [
       "(7010599, 3)"
      ]
     },
     "execution_count": 11,
     "metadata": {},
     "output_type": "execute_result"
    }
   ],
   "source": [
    "# All Entities\n",
    "matches_df.shape"
   ]
  },
  {
   "cell_type": "code",
   "execution_count": null,
   "metadata": {},
   "outputs": [],
   "source": []
  }
 ],
 "metadata": {
  "kernelspec": {
   "display_name": "base",
   "language": "python",
   "name": "python3"
  },
  "language_info": {
   "codemirror_mode": {
    "name": "ipython",
    "version": 3
   },
   "file_extension": ".py",
   "mimetype": "text/x-python",
   "name": "python",
   "nbconvert_exporter": "python",
   "pygments_lexer": "ipython3",
   "version": "3.9.12"
  },
  "orig_nbformat": 4
 },
 "nbformat": 4,
 "nbformat_minor": 2
}
